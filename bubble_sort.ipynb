{
 "cells": [
  {
   "cell_type": "code",
   "execution_count": 81,
   "metadata": {},
   "outputs": [],
   "source": [
    "import random"
   ]
  },
  {
   "cell_type": "code",
   "execution_count": 82,
   "metadata": {},
   "outputs": [],
   "source": [
    "array_lenght = 20\n",
    "arr = [0] * array_lenght\n",
    "#arr = [5, 7, 6, 2, 3, 7, 4, 4, 9, 63]"
   ]
  },
  {
   "cell_type": "code",
   "execution_count": 83,
   "metadata": {},
   "outputs": [],
   "source": [
    "def generate_array():\n",
    "    for i in range(0, array_lenght):\n",
    "        arr[i]= random.randrange(1, 100)\n",
    "generate_array()"
   ]
  },
  {
   "cell_type": "code",
   "execution_count": 84,
   "metadata": {},
   "outputs": [
    {
     "name": "stdout",
     "output_type": "stream",
     "text": [
      "grg\n",
      "grg\n",
      "grg\n",
      "grg\n",
      "grg\n",
      "grg\n",
      "grg\n",
      "grg\n",
      "grg\n",
      "grg\n",
      "grg\n",
      "grg\n",
      "grg\n",
      "grg\n",
      "grg\n",
      "grg\n",
      "grg\n",
      "grg\n",
      "grg\n",
      "grg\n",
      "grg\n",
      "grg\n",
      "grg\n",
      "grg\n",
      "grg\n",
      "grg\n",
      "grg\n",
      "grg\n",
      "grg\n",
      "grg\n",
      "grg\n",
      "grg\n",
      "grg\n",
      "grg\n",
      "grg\n",
      "grg\n",
      "grg\n",
      "grg\n",
      "grg\n",
      "grg\n",
      "grg\n",
      "grg\n",
      "grg\n",
      "grg\n",
      "grg\n",
      "grg\n",
      "grg\n",
      "grg\n",
      "grg\n",
      "grg\n",
      "grg\n",
      "grg\n",
      "grg\n",
      "grg\n",
      "grg\n",
      "grg\n",
      "grg\n",
      "grg\n",
      "grg\n",
      "grg\n",
      "grg\n",
      "grg\n",
      "grg\n",
      "grg\n",
      "grg\n",
      "grg\n",
      "grg\n",
      "grg\n",
      "grg\n",
      "grg\n",
      "grg\n",
      "grg\n",
      "grg\n",
      "grg\n",
      "grg\n",
      "grg\n",
      "grg\n",
      "grg\n",
      "grg\n",
      "grg\n",
      "grg\n",
      "grg\n",
      "grg\n",
      "grg\n",
      "grg\n",
      "grg\n",
      "grg\n",
      "grg\n",
      "grg\n",
      "grg\n",
      "grg\n",
      "grg\n",
      "grg\n",
      "grg\n",
      "grg\n",
      "grg\n",
      "grg\n",
      "grg\n"
     ]
    }
   ],
   "source": [
    "run = True\n",
    "while(run):\n",
    "    co = 0\n",
    "    for i in range(array_lenght-1):\n",
    "        if(arr[i] > arr[i+1]):\n",
    "            arr[i], arr[i+1] = arr[i+1], arr[i]\n",
    "            co += 1\n",
    "        if(co == 0):\n",
    "            run = False"
   ]
  },
  {
   "cell_type": "code",
   "execution_count": 85,
   "metadata": {},
   "outputs": [
    {
     "name": "stdout",
     "output_type": "stream",
     "text": [
      "98\n",
      "False\n",
      "[69, 51, 17, 16, 70, 44, 26, 62, 6, 50, 80, 18, 44, 62, 70, 31, 19, 13, 60, 26, 82, 12, 53, 23, 13, 71, 94, 47, 39, 50, 63, 15, 46, 73, 28, 27, 52, 84, 18, 71, 83, 89, 24, 16, 34, 81, 62, 78, 86, 65, 73, 54, 71, 3, 17, 23, 32, 43, 85, 31, 86, 43, 39, 6, 33, 67, 48, 32, 77, 73, 93, 61, 1, 35, 78, 18, 72, 29, 29, 34, 11, 46, 3, 19, 24, 36, 70, 87, 6, 27, 90, 49, 93, 74, 87, 71, 96, 81, 34, 99]\n"
     ]
    }
   ],
   "source": [
    "print(co)\n",
    "print(run)\n",
    "print(arr)"
   ]
  }
 ],
 "metadata": {
  "kernelspec": {
   "display_name": "Python 3",
   "language": "python",
   "name": "python3"
  },
  "language_info": {
   "codemirror_mode": {
    "name": "ipython",
    "version": 3
   },
   "file_extension": ".py",
   "mimetype": "text/x-python",
   "name": "python",
   "nbconvert_exporter": "python",
   "pygments_lexer": "ipython3",
   "version": "3.10.6"
  },
  "orig_nbformat": 4,
  "vscode": {
   "interpreter": {
    "hash": "916dbcbb3f70747c44a77c7bcd40155683ae19c65e1c03b4aa3499c5328201f1"
   }
  }
 },
 "nbformat": 4,
 "nbformat_minor": 2
}
